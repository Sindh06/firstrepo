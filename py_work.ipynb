{
 "cells": [
  {
   "cell_type": "markdown",
   "id": "e816dece",
   "metadata": {},
   "source": [
    "#              Python Worksheet"
   ]
  },
  {
   "cell_type": "markdown",
   "id": "f3bb2484",
   "metadata": {},
   "source": [
    "Q1 to Q8 have only one correct answer. Choose the correct option to answer your question.\n",
    "1. Which of the following operators is used to calculate remainder in a division?\n",
    "        A) #        B) &\n",
    "        C) %        D) $\n",
    "\n",
    "   Solution: C"
   ]
  },
  {
   "cell_type": "markdown",
   "id": "2a309ff4",
   "metadata": {},
   "source": [
    "2. In python 2//3 is equal to?\n",
    "        A) 0.666    B) 0\n",
    "        C) 1        D) 0.67\n",
    "\n",
    "   Solution: B\n"
   ]
  },
  {
   "cell_type": "markdown",
   "id": "92a61f00",
   "metadata": {},
   "source": [
    "3. In python, 6<<2 is equal to?\n",
    "        A) 36       B) 10\n",
    "        C) 24       D) 45\n",
    "        \n",
    "   Solution: C"
   ]
  },
  {
   "cell_type": "markdown",
   "id": "593fb272",
   "metadata": {},
   "source": [
    "4. In python, 6&2 will give which of the following as output?\n",
    "        A) 2        B) True\n",
    "        C) False    D) 0\n",
    "Solution: A"
   ]
  },
  {
   "cell_type": "markdown",
   "id": "1d311f41",
   "metadata": {},
   "source": [
    "5. In python, 6|2 will give which of the following as output?\n",
    "        A) 2        B) 4\n",
    "        C) 0        D) 6\n",
    "    Solution: D"
   ]
  },
  {
   "cell_type": "markdown",
   "id": "1ce657e3",
   "metadata": {},
   "source": [
    "###### "
   ]
  },
  {
   "cell_type": "markdown",
   "id": "f32c726d",
   "metadata": {},
   "source": [
    "6. What does the finally keyword denotes in python?\n",
    "        A) It is used to mark the end of the code\n",
    "        B) It encloses the lines of code which will be executed if any error occurs while executing the lines of code in \n",
    "           the try block.\n",
    "        C) the finally block will be executed no matter if the try block raises an error or not.\n",
    "        D) None of the above\n",
    "   Solution: C"
   ]
  },
  {
   "cell_type": "markdown",
   "id": "d06eb5c8",
   "metadata": {},
   "source": [
    "7. What does raise keyword is used for in python?\n",
    "        A) It is used to raise an exception.  \n",
    "        B) It is used to define lambda function\n",
    "        C) it's not a keyword in python.\n",
    "        D) None of the above\n",
    "   Solution: A"
   ]
  },
  {
   "cell_type": "markdown",
   "id": "af9e13b7",
   "metadata": {},
   "source": [
    "8. Which of the following is a common use case of yield keyword in python?\n",
    "        A) in defining an iterator \n",
    "        B) while defining a lambda function\n",
    "        C) in defining a generator \n",
    "        D) in for loop.\n",
    "   Solution: C"
   ]
  },
  {
   "cell_type": "markdown",
   "id": "4ae9668f",
   "metadata": {},
   "source": [
    "Q9 and Q10 have multiple correct answers. Choose all the correct options to answer your question."
   ]
  },
  {
   "cell_type": "markdown",
   "id": "bb8e7e95",
   "metadata": {},
   "source": [
    "9. Which of the following are the valid variable names?\n",
    "        A) _abc        B) 1abc\n",
    "        C) abc2        D) None of the above\n",
    "   Solution: A,C"
   ]
  },
  {
   "cell_type": "markdown",
   "id": "281d0a25",
   "metadata": {},
   "source": [
    "10. Which of the following are the keywords in python?\n",
    "        A) yield       B) raise\n",
    "        C) look-in     D) all of the above\n",
    "Solution: A,B"
   ]
  },
  {
   "cell_type": "markdown",
   "id": "2beeb418",
   "metadata": {},
   "source": [
    "Q11 to Q15 are programming questions. Answer them in Jupyter Notebook."
   ]
  },
  {
   "cell_type": "markdown",
   "id": "3fdeddc0",
   "metadata": {},
   "source": [
    "11. Write a python program to find the factorial of a number."
   ]
  },
  {
   "cell_type": "code",
   "execution_count": 2,
   "id": "4d553b0b",
   "metadata": {},
   "outputs": [
    {
     "name": "stdout",
     "output_type": "stream",
     "text": [
      "Enter a number:5\n",
      "The factorial of 5 is 120\n"
     ]
    }
   ],
   "source": [
    "num=int(input(\"Enter a number:\"))\n",
    "\n",
    "factorial=1\n",
    "\n",
    "if num < 0:\n",
    "    print(\"Sorry, factorial does not exist for negative numbers\")\n",
    "elif num == 0:\n",
    "    print(\"The factorial of 0 is 1\")\n",
    "else:\n",
    "    for i in range(1,num+1):\n",
    "        factorial=factorial*i\n",
    "    print(\"The factorial of\",num,\"is\",factorial)\n"
   ]
  },
  {
   "cell_type": "markdown",
   "id": "df4a5c31",
   "metadata": {},
   "source": [
    "12. Write a python program to find whether a number is prime or composite."
   ]
  },
  {
   "cell_type": "code",
   "execution_count": 3,
   "id": "95285bc1",
   "metadata": {},
   "outputs": [
    {
     "name": "stdout",
     "output_type": "stream",
     "text": [
      "Enter a number:3\n",
      "The number is a prime number\n"
     ]
    }
   ],
   "source": [
    "num=int(input(\"Enter a number:\"))\n",
    "if num>1:\n",
    "    for i in range(2,num):\n",
    "        if (num % i)==0:\n",
    "            print(\"The number is a composite number\")\n",
    "            break\n",
    "            \n",
    "    else:\n",
    "        print(\"The number is a prime number\")\n",
    "else:\n",
    "    print(\"The number is a composite number\")\n"
   ]
  },
  {
   "cell_type": "markdown",
   "id": "853ee4be",
   "metadata": {},
   "source": [
    "13. Write a python program to check whether a given string is palindrome or not."
   ]
  },
  {
   "cell_type": "code",
   "execution_count": 8,
   "id": "fecb7c87",
   "metadata": {},
   "outputs": [
    {
     "name": "stdout",
     "output_type": "stream",
     "text": [
      "Enter a stringMadam\n",
      " The string madam is palindrome\n"
     ]
    }
   ],
   "source": [
    "str1=input(\"Enter a string\")\n",
    "\n",
    "str1=str1.casefold()\n",
    "rev_str1=reversed (str1)\n",
    "if list(str1)==list(rev_str1):\n",
    "    print(\" The string\", str1, \"is palindrome\")\n",
    "else:\n",
    "    print(\"The string\", str1, \"is not palindrome\")"
   ]
  },
  {
   "cell_type": "markdown",
   "id": "c161dfc7",
   "metadata": {},
   "source": [
    "14. Write a Python program to get the third side of right-angled triangle from two given sides."
   ]
  },
  {
   "cell_type": "code",
   "execution_count": 5,
   "id": "4bf1d5e5",
   "metadata": {},
   "outputs": [
    {
     "name": "stdout",
     "output_type": "stream",
     "text": [
      "Enter the angle:90\n",
      "Enter side1 value:3\n",
      "Enter side2 value:4\n",
      "5.0\n"
     ]
    }
   ],
   "source": [
    "import math \n",
    "x=float(input(\"Enter the angle:\"))\n",
    "if x==90:\n",
    "    def findhypotenuse(side1, side2):\n",
    "        h=math.sqrt(side1**2 + side2**2)\n",
    "        print(h)\n",
    "        return h\n",
    "    side1=float(input(\"Enter side1 value:\"))\n",
    "    side2=float(input(\"Enter side2 value:\"))\n",
    "    catch_h=findhypotenuse(side1,side2)\n",
    "\n",
    "else:\n",
    "    print(\"Sorry! Pythogorean theorem is applied only for right_angled triangle\")\n"
   ]
  },
  {
   "cell_type": "markdown",
   "id": "b6c505fe",
   "metadata": {},
   "source": [
    "15. Write a python program to print the frequency of each of the characters present in a given string."
   ]
  },
  {
   "cell_type": "code",
   "execution_count": 13,
   "id": "65aebc8c",
   "metadata": {},
   "outputs": [
    {
     "name": "stdout",
     "output_type": "stream",
     "text": [
      "Enter the stringpython\n",
      "p 1\n",
      "y 1\n",
      "t 1\n",
      "h 1\n",
      "o 1\n",
      "n 1\n"
     ]
    }
   ],
   "source": [
    "from collections import Counter\n",
    "counts=Counter(input(\"Enter the string\"))\n",
    "for i in counts:\n",
    "    print(i,counts[i])"
   ]
  },
  {
   "cell_type": "code",
   "execution_count": null,
   "id": "f63d930e",
   "metadata": {},
   "outputs": [],
   "source": []
  },
  {
   "cell_type": "code",
   "execution_count": null,
   "id": "fe4bee53",
   "metadata": {},
   "outputs": [],
   "source": []
  },
  {
   "cell_type": "code",
   "execution_count": null,
   "id": "0a71afe7",
   "metadata": {},
   "outputs": [],
   "source": []
  },
  {
   "cell_type": "code",
   "execution_count": null,
   "id": "cef7b638",
   "metadata": {},
   "outputs": [],
   "source": []
  },
  {
   "cell_type": "code",
   "execution_count": null,
   "id": "77738446",
   "metadata": {},
   "outputs": [],
   "source": []
  },
  {
   "cell_type": "code",
   "execution_count": null,
   "id": "8059619a",
   "metadata": {},
   "outputs": [],
   "source": []
  },
  {
   "cell_type": "code",
   "execution_count": null,
   "id": "4440acbb",
   "metadata": {},
   "outputs": [],
   "source": []
  },
  {
   "cell_type": "code",
   "execution_count": null,
   "id": "abbb3be1",
   "metadata": {},
   "outputs": [],
   "source": []
  },
  {
   "cell_type": "code",
   "execution_count": null,
   "id": "227b6052",
   "metadata": {},
   "outputs": [],
   "source": []
  },
  {
   "cell_type": "code",
   "execution_count": null,
   "id": "3525d5f3",
   "metadata": {},
   "outputs": [],
   "source": []
  },
  {
   "cell_type": "code",
   "execution_count": null,
   "id": "e6722c39",
   "metadata": {},
   "outputs": [],
   "source": []
  },
  {
   "cell_type": "code",
   "execution_count": null,
   "id": "703aa742",
   "metadata": {},
   "outputs": [],
   "source": []
  },
  {
   "cell_type": "code",
   "execution_count": null,
   "id": "d5de530a",
   "metadata": {},
   "outputs": [],
   "source": []
  }
 ],
 "metadata": {
  "kernelspec": {
   "display_name": "Python 3",
   "language": "python",
   "name": "python3"
  },
  "language_info": {
   "codemirror_mode": {
    "name": "ipython",
    "version": 3
   },
   "file_extension": ".py",
   "mimetype": "text/x-python",
   "name": "python",
   "nbconvert_exporter": "python",
   "pygments_lexer": "ipython3",
   "version": "3.8.8"
  }
 },
 "nbformat": 4,
 "nbformat_minor": 5
}
